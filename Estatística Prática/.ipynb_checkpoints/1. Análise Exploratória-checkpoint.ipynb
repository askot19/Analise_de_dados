{
 "cells": [
  {
   "cell_type": "markdown",
   "id": "1119766b",
   "metadata": {
    "colab_type": "text",
    "id": "view-in-github"
   },
   "source": [
    "<a href=\"https://colab.research.google.com/github/askot19/Analise_de_dados/blob/main/Estat%C3%ADstica%20Pr%C3%A1tica/1.%20An%C3%A1lise%20Explorat%C3%B3ria.ipynb\" target=\"_parent\"><img src=\"https://colab.research.google.com/assets/colab-badge.svg\" alt=\"Open In Colab\"/></a>"
   ]
  },
  {
   "cell_type": "markdown",
   "id": "FnKJqY-XHoGY",
   "metadata": {
    "id": "FnKJqY-XHoGY"
   },
   "source": [
    "---\n",
    "## **Data Scientist & Analyst**\n",
    "\n",
    "*by [Paulo Henrique de Melo Ferreira](https://www.linkedin.com/in/paulo-henrique-ferreira-20151374/)*\n",
    "\n",
    "---\n",
    "\n",
    "<p style=\"text-align: justify;\">\n",
    "\n",
    "Este notebook visa aprofundar meus conhecimentos acerca de estatística aplicada à Ciência de Dados. Meu objetivo aqui é implementar o que já conheço de estatística por meio do livro ***Estatística prática para cientistas de dados: 50 conceitos essenciais***, e me aprofundar no meio, tornando-me mais capaz, eficiente e eficaz nos meu projetos tanto profissionais quanto pessoais.\n",
    "\n",
    "</p>"
   ]
  },
  {
   "cell_type": "code",
   "execution_count": 28,
   "id": "10b3479c",
   "metadata": {
    "id": "10b3479c"
   },
   "outputs": [],
   "source": [
    "# Importação das bibliotecas para manipulação e tratamento de dados\n",
    "import pandas as pd\n",
    "import seaborn as sns\n",
    "import numpy as np\n",
    "from matplotlib import pyplot as plt\n",
    "import seaborn as sns\n",
    "from scipy import stats\n",
    "from scipy.stats import trim_mean"
   ]
  },
  {
   "cell_type": "markdown",
   "id": "b1c33998",
   "metadata": {
    "id": "b1c33998"
   },
   "source": [
    "## Métricas Robustas para Localização"
   ]
  },
  {
   "cell_type": "markdown",
   "id": "kgASnNOm-vH8",
   "metadata": {
    "id": "kgASnNOm-vH8"
   },
   "source": [
    "Métricas que fornecem uma visão geral do conjunto de dados, possibilitam visualizar medidas de tendência central dos dados para posterior inferência dos dados com o auxílio das métricas para variabilidade."
   ]
  },
  {
   "cell_type": "code",
   "execution_count": 29,
   "id": "a15c066a",
   "metadata": {
    "id": "a15c066a"
   },
   "outputs": [],
   "source": [
    "# Criação de dataset através de dicionário\n",
    "homicidio = {'Estado': {0: 'Alabama',\n",
    "                        1: 'Alasca',\n",
    "                        2: 'Arizona',\n",
    "                        3: 'Arkansas',\n",
    "                        4: 'Califórnia',\n",
    "                        5: 'Colorado',\n",
    "                        6: 'Connecticut',\n",
    "                        7: 'Delaware'\n",
    "\n",
    "},\n",
    "    'População': {\n",
    "        0: 4779736,\n",
    "        1: 710231,\n",
    "        2: 6392017,\n",
    "        3: 2915918,\n",
    "        4: 37252956,\n",
    "        5: 5029196,\n",
    "        6: 3574097,\n",
    "        7: 897934\n",
    "\n",
    "    },\n",
    "             'Taxa de Homicídio': {0: 5.7,\n",
    "                                  1: 5.6,\n",
    "                                  2: 4.7,\n",
    "                                  3: 5.6,\n",
    "                                  4: 4.4,\n",
    "                                  5: 2.8,\n",
    "                                   6: 2.4,\n",
    "                                   7: 5.8\n",
    "                                  }\n",
    "}"
   ]
  },
  {
   "cell_type": "code",
   "execution_count": 30,
   "id": "f5457ea2",
   "metadata": {
    "colab": {
     "base_uri": "https://localhost:8080/",
     "height": 300
    },
    "id": "f5457ea2",
    "outputId": "6e7a4d22-f278-4a52-9023-132a7c2881a3"
   },
   "outputs": [
    {
     "data": {
      "text/html": [
       "<div>\n",
       "<style scoped>\n",
       "    .dataframe tbody tr th:only-of-type {\n",
       "        vertical-align: middle;\n",
       "    }\n",
       "\n",
       "    .dataframe tbody tr th {\n",
       "        vertical-align: top;\n",
       "    }\n",
       "\n",
       "    .dataframe thead th {\n",
       "        text-align: right;\n",
       "    }\n",
       "</style>\n",
       "<table border=\"1\" class=\"dataframe\">\n",
       "  <thead>\n",
       "    <tr style=\"text-align: right;\">\n",
       "      <th></th>\n",
       "      <th>Estado</th>\n",
       "      <th>População</th>\n",
       "      <th>Taxa de Homicídio</th>\n",
       "    </tr>\n",
       "  </thead>\n",
       "  <tbody>\n",
       "    <tr>\n",
       "      <th>0</th>\n",
       "      <td>Alabama</td>\n",
       "      <td>4779736</td>\n",
       "      <td>5.7</td>\n",
       "    </tr>\n",
       "    <tr>\n",
       "      <th>1</th>\n",
       "      <td>Alasca</td>\n",
       "      <td>710231</td>\n",
       "      <td>5.6</td>\n",
       "    </tr>\n",
       "    <tr>\n",
       "      <th>2</th>\n",
       "      <td>Arizona</td>\n",
       "      <td>6392017</td>\n",
       "      <td>4.7</td>\n",
       "    </tr>\n",
       "    <tr>\n",
       "      <th>3</th>\n",
       "      <td>Arkansas</td>\n",
       "      <td>2915918</td>\n",
       "      <td>5.6</td>\n",
       "    </tr>\n",
       "    <tr>\n",
       "      <th>4</th>\n",
       "      <td>Califórnia</td>\n",
       "      <td>37252956</td>\n",
       "      <td>4.4</td>\n",
       "    </tr>\n",
       "    <tr>\n",
       "      <th>5</th>\n",
       "      <td>Colorado</td>\n",
       "      <td>5029196</td>\n",
       "      <td>2.8</td>\n",
       "    </tr>\n",
       "    <tr>\n",
       "      <th>6</th>\n",
       "      <td>Connecticut</td>\n",
       "      <td>3574097</td>\n",
       "      <td>2.4</td>\n",
       "    </tr>\n",
       "    <tr>\n",
       "      <th>7</th>\n",
       "      <td>Delaware</td>\n",
       "      <td>897934</td>\n",
       "      <td>5.8</td>\n",
       "    </tr>\n",
       "  </tbody>\n",
       "</table>\n",
       "</div>"
      ],
      "text/plain": [
       "        Estado  População  Taxa de Homicídio\n",
       "0      Alabama    4779736                5.7\n",
       "1       Alasca     710231                5.6\n",
       "2      Arizona    6392017                4.7\n",
       "3     Arkansas    2915918                5.6\n",
       "4   Califórnia   37252956                4.4\n",
       "5     Colorado    5029196                2.8\n",
       "6  Connecticut    3574097                2.4\n",
       "7     Delaware     897934                5.8"
      ]
     },
     "execution_count": 30,
     "metadata": {},
     "output_type": "execute_result"
    }
   ],
   "source": [
    "# Importação dos dados para um Data Frame\n",
    "dados = pd.DataFrame(homicidio)\n",
    "dados"
   ]
  },
  {
   "cell_type": "code",
   "execution_count": 31,
   "id": "sBLp4ZmvMRkA",
   "metadata": {
    "colab": {
     "base_uri": "https://localhost:8080/"
    },
    "id": "sBLp4ZmvMRkA",
    "outputId": "39a185a2-8aa9-4f8b-dbc5-9a00039d66ae"
   },
   "outputs": [
    {
     "name": "stdout",
     "output_type": "stream",
     "text": [
      "<class 'pandas.core.frame.DataFrame'>\n",
      "Int64Index: 8 entries, 0 to 7\n",
      "Data columns (total 3 columns):\n",
      " #   Column             Non-Null Count  Dtype  \n",
      "---  ------             --------------  -----  \n",
      " 0   Estado             8 non-null      object \n",
      " 1   População          8 non-null      int64  \n",
      " 2   Taxa de Homicídio  8 non-null      float64\n",
      "dtypes: float64(1), int64(1), object(1)\n",
      "memory usage: 256.0+ bytes\n"
     ]
    }
   ],
   "source": [
    "dados.info()"
   ]
  },
  {
   "cell_type": "code",
   "execution_count": 32,
   "id": "5eb1ec78",
   "metadata": {
    "colab": {
     "base_uri": "https://localhost:8080/"
    },
    "id": "5eb1ec78",
    "outputId": "82ccfc9e-4db7-41e1-dc13-0867fb02dd31"
   },
   "outputs": [
    {
     "data": {
      "text/plain": [
       "7694010.625"
      ]
     },
     "execution_count": 32,
     "metadata": {},
     "output_type": "execute_result"
    }
   ],
   "source": [
    "# média\n",
    "dados['População'].mean()"
   ]
  },
  {
   "cell_type": "code",
   "execution_count": 33,
   "id": "e53baf06",
   "metadata": {
    "colab": {
     "base_uri": "https://localhost:8080/"
    },
    "id": "e53baf06",
    "outputId": "515fbebd-e8b7-4b30-f683-73f086ab3fca"
   },
   "outputs": [
    {
     "data": {
      "text/plain": [
       "4074736.75"
      ]
     },
     "execution_count": 33,
     "metadata": {},
     "output_type": "execute_result"
    }
   ],
   "source": [
    "# média aparada\n",
    "trim_mean(dados.População, 0.25)"
   ]
  },
  {
   "cell_type": "code",
   "execution_count": 34,
   "id": "b7d2fcde",
   "metadata": {
    "colab": {
     "base_uri": "https://localhost:8080/"
    },
    "id": "b7d2fcde",
    "outputId": "896f5fea-ed17-4e57-a558-9e5bff818a7c"
   },
   "outputs": [
    {
     "data": {
      "text/plain": [
       "4176916.5"
      ]
     },
     "execution_count": 34,
     "metadata": {},
     "output_type": "execute_result"
    }
   ],
   "source": [
    "# mediana\n",
    "dados['População'].median()"
   ]
  },
  {
   "cell_type": "markdown",
   "id": "06bd9ba9",
   "metadata": {
    "id": "06bd9ba9"
   },
   "source": [
    "## Estimativas de Variabilidade\n",
    "\n",
    "São métricas que estabelecem intervalos de confiabilidade dos dados, baseando-se no próprio conjunto. São medidas que estabelecem um certo \"limite\" para que as incertezas não prejudiquem a análise como um todo, contudo, elas permitem ainda identificar Outliers - pontos fora desse intervalo -, os quais dependendo das análises são os fatores de interesse de nossa análise.\n",
    "\n",
    "Todos os casos envolvendo Outliers devem ser estudados, pois nem sempre a exclusão destes pontos será a solução adequada para uma análise satisfatória, cabe ao analista enxergar a importância ou não a influência deste Outlier."
   ]
  },
  {
   "cell_type": "markdown",
   "id": "QHTawWO2Ftks",
   "metadata": {
    "id": "QHTawWO2Ftks"
   },
   "source": [
    "**Variância**\n",
    "\n",
    "$S^2=\\frac{\\sum_{i=1}^{n}(x_i-\\overline{x})^2}{n-1}$\n",
    "\n",
    "\n",
    "\n",
    "**Desvio Padrão**\n",
    "\n",
    "$σ=\\sqrt{\\frac{\\sum_{i=1}^{n}(x_i-\\overline{x})^2}{n-1}}$\n",
    "\n",
    "\n",
    "**Desvio Absoluto Médio**\n",
    "\n",
    "$D_m = \\frac{\\sum_{i=1}^{n}|(x_i-\\overline{x})|}{n} $\n",
    "\n",
    "**Desvio absoluto mediano da mediana**\n",
    "\n",
    "A mediana do valor absoluto dos desvios da mediana. (Utilizado quando temos Outliers no problema)\n",
    "\n",
    "**Amplitude**\n",
    "\n",
    "A diferença entre o maior e o menor valor no conjunto de dados\n",
    "\n",
    "\n",
    "---"
   ]
  },
  {
   "cell_type": "markdown",
   "id": "Y_RHGB6wJwzk",
   "metadata": {
    "id": "Y_RHGB6wJwzk"
   },
   "source": [
    "## Estatísticas ordinais\n",
    "\n",
    "Métricas baseadas nos valores de dados classificados do menor ao maior.\n",
    "\n",
    "**Percentil**\n",
    "\n",
    "Valor tal que P por cento dos valores assumam esse valor ou menos, e (100-P) por cento assumam esse valor ou mais.\n",
    "\n",
    "**Amplitude interquartílica (IQR)**\n",
    "\n",
    "A diferença entre o 75º percentil e o 25º percentil."
   ]
  },
  {
   "cell_type": "code",
   "execution_count": 35,
   "id": "ip9qLIeUMmRJ",
   "metadata": {
    "colab": {
     "base_uri": "https://localhost:8080/"
    },
    "id": "ip9qLIeUMmRJ",
    "outputId": "b96f8b0f-ebac-45a1-dfb6-59a02818fe7d"
   },
   "outputs": [
    {
     "data": {
      "text/plain": [
       "12105396.467286125"
      ]
     },
     "execution_count": 35,
     "metadata": {},
     "output_type": "execute_result"
    }
   ],
   "source": [
    "# Desvio padrão\n",
    "dados['População'].std()"
   ]
  },
  {
   "cell_type": "code",
   "execution_count": 36,
   "id": "iim8WbF5z8h1",
   "metadata": {
    "colab": {
     "base_uri": "https://localhost:8080/"
    },
    "id": "iim8WbF5z8h1",
    "outputId": "56c219c1-6fec-4636-bd96-2f8c4a16bd5c"
   },
   "outputs": [
    {
     "data": {
      "text/plain": [
       "4176916.5"
      ]
     },
     "execution_count": 36,
     "metadata": {},
     "output_type": "execute_result"
    }
   ],
   "source": [
    "# IQR\n",
    "dados['População'].quantile()"
   ]
  },
  {
   "cell_type": "code",
   "execution_count": 37,
   "id": "mIM4jFne0Ir1",
   "metadata": {
    "colab": {
     "base_uri": "https://localhost:8080/"
    },
    "id": "mIM4jFne0Ir1",
    "outputId": "3c3d2011-9d1d-421c-cce1-7fbf0f8b3cab"
   },
   "outputs": [
    {
     "data": {
      "text/plain": [
       "1738049.5"
      ]
     },
     "execution_count": 37,
     "metadata": {},
     "output_type": "execute_result"
    }
   ],
   "source": [
    "# Desvio absoluto mediano da mediana (MAD)\n",
    "stats.median_abs_deviation(dados['População'])"
   ]
  },
  {
   "cell_type": "markdown",
   "id": "nRxi_ZE22xUc",
   "metadata": {
    "id": "nRxi_ZE22xUc"
   },
   "source": [
    "---\n",
    "\n",
    "## Explorando a Distribuição de Dados\n",
    "\n",
    "Cada uma das estimativas vistas anteriormente acaba resumindo os dados em um único número para descrever a localização ou variabilidade dos dados. É útil também explorar como os dados são distribuídos em geral.\n",
    "\n",
    "**Boxplot**\n",
    "\n",
    "Um gráfico apresentado por Tukey como um modo rápido de visualizar a distribuição dos dados.\n",
    "\n",
    "**Tabela de frequências**\n",
    "\n",
    "Um registro da contagem de valores numéricos de dados que caem em um conjunto de intervalos (colunas).\n",
    "\n",
    "**Histograma**\n",
    "\n",
    "Um gráfico da tabela de frequências com as colunas no eixo x e a contagem (ou proporção) no eixo y.\n",
    "\n",
    "**Gráfico de densidade**\n",
    "\n",
    "Uma versão simplificada do histograma, frequentemente usado em estimativas de densidade Kernel.\n",
    "\n",
    "### Percentis e Boxplots\n",
    "\n",
    "Os percentis são úteis para resumir a distribuição dos dados. É comum registrar os quartis (25º, 50º e 75º) e os decis (10º, 20º, ..., 90º). Os percentis são comumente utlizados para resumir *caudas* (a amplitude externa) da distribuição. Valores que ultrapassem 1,5 vezes o IQR são considerados Outliers e representados além dos *Whiskers*."
   ]
  },
  {
   "cell_type": "code",
   "execution_count": 38,
   "id": "gEt7ZpSe7uqf",
   "metadata": {
    "colab": {
     "base_uri": "https://localhost:8080/",
     "height": 443
    },
    "id": "gEt7ZpSe7uqf",
    "outputId": "8b0e9be3-f83b-4e58-d090-13bbeb00a1fc"
   },
   "outputs": [
    {
     "data": {
      "text/plain": [
       "<Axes: ylabel='População'>"
      ]
     },
     "execution_count": 38,
     "metadata": {},
     "output_type": "execute_result"
    },
    {
     "data": {
      "image/png": "[encoded data removed]",
      "text/plain": [
       "<Figure size 400x400 with 1 Axes>"
      ]
     },
     "metadata": {},
     "output_type": "display_data"
    }
   ],
   "source": [
    "sns.boxplot(data = dados, y = 'População')"
   ]
  },
  {
   "cell_type": "markdown",
   "id": "8dJzDMSS7tf8",
   "metadata": {
    "id": "8dJzDMSS7tf8"
   },
   "source": [
    "Os boxplots são excelentes ferramentas para visualizações rápidas da distribuição dos dados. No exemplo acima vemos uma distribuição concentrada próxima de 5 milhões de habitantes destacadas na região azul, e um único ponto como Outlier acima de 35 milhões de habitantes. A mediana é o traçado próximo ao centro do box, com valor inferior a 5 milhões de habitantes. A região azul é e a denominada de IQR, a amplitude entre os intervalos de 25º e 75º quartis dos dados.\n",
    "\n",
    "### Tabela de Frequências e Histogramas\n",
    "\n",
    "Uma tabela de frequências de uma variável divide a amplitude variável em segmentos igualmente espaçados e nos diz quantos valores caem em cada segmento."
   ]
  },
  {
   "cell_type": "code",
   "execution_count": 39,
   "id": "NJDYMWoT3Jos",
   "metadata": {
    "colab": {
     "base_uri": "https://localhost:8080/",
     "height": 524
    },
    "id": "NJDYMWoT3Jos",
    "outputId": "9757dfd5-2dac-42ce-fc74-8bb26ef5d140"
   },
   "outputs": [
    {
     "data": {
      "text/plain": [
       "[Text(0.5, 1.0, 'Histograma da População'),\n",
       " Text(0.5, 0, 'População'),\n",
       " Text(0, 0.5, 'Frequência')]"
      ]
     },
     "execution_count": 39,
     "metadata": {},
     "output_type": "execute_result"
    },
    {
     "data": {
      "image/png": "[encoded data removed]",
      "text/plain": [
       "<Figure size 400x400 with 1 Axes>"
      ]
     },
     "metadata": {},
     "output_type": "display_data"
    }
   ],
   "source": [
    "ax = sns.histplot(data = dados, x = 'População', stat = 'frequency', kde = True)\n",
    "ax.set(title = 'Histograma da População', xlabel='População', ylabel='Frequência')"
   ]
  },
  {
   "cell_type": "markdown",
   "id": "7JZXbexr4Nyk",
   "metadata": {
    "id": "7JZXbexr4Nyk"
   },
   "source": [
    "O histograma basicamente serve para observarmos a distribuição dos dados, esta primeira análise é um excelente guia de como devemos tratar os dados e enxergar determinados fatores do conjunto de dados apresentados.\n",
    "\n",
    "Através deste histograma podemos observar que há uma certa concentração dos valores da população em torno de 5 milhões de habitantes. É possível também observar um *Outlier* próximo de 35 milhões de habitantes (Califórnia).\n",
    "\n",
    "Possuímos um Dataset pequeno neste caso, contudo, ele exemplifica uma possível distribuição. No geral, devemos nos atentar à nossa amostra, uma vez que os histogramas somente serão úteis quando possuirmos no mínimo 20 medidas diferentes para se realizar alguma inferência inicial, ao se utilizar histogramas.\n",
    "\n",
    "Localização é denominada como primeiro momento estatístico, enquanto a variabilidade é tratada como segundo momento estatístico. Ao mesmo passo os terceiro e quarto momentos são denominados de ***assimetria*** e ***curtose***. A ***assimetria*** indica se os dados estão inclinados a valores maiores ou menores, enquanto a ***curstose*** está associada à propensão dos dados possuírem valores extremos."
   ]
  },
  {
   "cell_type": "markdown",
   "id": "98m-Ni0lCO_0",
   "metadata": {
    "id": "98m-Ni0lCO_0"
   },
   "source": [
    "### Explorando Dados Binários e Categóricos\n",
    "\n",
    "A principal forma de se realizar estudos acerca de Dados Binários ou Categóricos é realizar a sua contagem. Desta forma podemos fazer o tratamento com algumas métricas estatísticas e ter alguns insights acerca dos dados que acercam uma determinada população.\n",
    "\n",
    "<br>\n",
    "\n",
    "***Termos Chave***\n",
    "\n",
    "<br>\n",
    "\n",
    "**Moda**\n",
    "\n",
    "O valor que mais se repete em um determinado conujunto de dados, pode ser um valor numérico ou textual.\n",
    "\n",
    "***Valor esperado***\n",
    "\n",
    "Quando as categorias podem ser associadas a um valor numérico, isso nos dá um valor médio com base na probabilidade de ocorrência de uma categoria\n",
    "\n",
    "***Gráficos de barras***\n",
    "\n",
    "A freuquência ou proporção de cada categoria representada por barras.\n",
    "\n",
    "***Gráficos de pizza***\n",
    "\n",
    "A frequência ou proporção de cada categoria representada por fatias de uma pizza.\n",
    "\n",
    "<br>\n",
    "\n",
    "Contudo, os Gráficos de Pizza são evitados pelos estatísticos, pois são visualmente menos informativos."
   ]
  },
  {
   "cell_type": "markdown",
   "id": "ab48e6f0",
   "metadata": {
    "id": "abz3RUxJKXZO"
   },
   "source": [
    "### Correlação\n",
    "\n",
    "Geralmente, na análise de dados utilizamos o estudo da correlação entre preditores, ou mesmo entre preditores e uma variável-alvo. Dizemos que a correlação entre duas variáveis X e Y é positiva quando so valores altos de X acompanham os valores altos de Y, isto também ocorre quando os valores baixos de X acompanham os valores baixos de Y. Ao mesmo passo, dizemos que duas variáveis são negativamente correlacionadas quando os valores altos de X acompanham os valores baixos de Y e vice-versa.\n",
    "\n",
    "\n",
    "**Coeficiente de correlação**\n",
    "\n",
    "Uma métrica que mede o nível em que as variáveis numéricas estão associadas umas às outras (varia de -1 a +1)\n",
    "\n",
    "**Matriz de correlação**\n",
    "\n",
    "Uma tabela na qual as variáveis são mostradas tanto nas linhas quanto nas colunas, e os valores das células são a correlação entre as variáveis.\n",
    "\n",
    "**Diagrama de Dispersão**\n",
    "\n",
    "Um gráfico no qual o eixo x é o valor de uma variável, e o eixo y é o valor de outra.\n",
    "\n",
    "**Coeficiente de correlação de Pearson**\n",
    "\n",
    "$ r = \\frac{\\sum^N_{i = 1}(x_i-\\overline{x})(y_i-\\overline{y})}{(N-1)S_xS_y}  $\n",
    "\n",
    "O coeficiente de correlação sempre deve ficar entre +1, que indica correlação positiva perfeita, e -1, que indica correlação negativa perfeita.  Quando obtém-se 0 do coeficiente de correlação, significa que não há correlação entre as variáveis avaliadas.\n",
    "\n",
    "Muitas vezes a variáveis têm uma associação não linear, nestes casos o coeficiente de correlação pode não ser uma métrica útil."
   ]
  },
  {
   "cell_type": "code",
   "execution_count": 40,
   "id": "2f3ac576",
   "metadata": {},
   "outputs": [],
   "source": [
    "# Importação de dados limpos de um projeto que estou desenvolvendo\n",
    "dados = pd.read_csv('https://raw.githubusercontent.com/askot19/Projetos/main/Telefonia/Dados/aluravoz_clean.csv')\n",
    "# Correção da importação do índice\n",
    "dados.drop(columns = 'Unnamed: 0', inplace = True)"
   ]
  },
  {
   "cell_type": "code",
   "execution_count": 41,
   "id": "1c6d1132",
   "metadata": {},
   "outputs": [
    {
     "name": "stderr",
     "output_type": "stream",
     "text": [
      "C:\\Users\\Supervisor\\AppData\\Local\\Temp\\ipykernel_400\\2151773638.py:2: FutureWarning: The default value of numeric_only in DataFrame.corr is deprecated. In a future version, it will default to False. Select only valid columns or specify the value of numeric_only to silence this warning.\n",
      "  dados.corr()\n"
     ]
    },
    {
     "data": {
      "text/html": [
       "<div>\n",
       "<style scoped>\n",
       "    .dataframe tbody tr th:only-of-type {\n",
       "        vertical-align: middle;\n",
       "    }\n",
       "\n",
       "    .dataframe tbody tr th {\n",
       "        vertical-align: top;\n",
       "    }\n",
       "\n",
       "    .dataframe thead th {\n",
       "        text-align: right;\n",
       "    }\n",
       "</style>\n",
       "<table border=\"1\" class=\"dataframe\">\n",
       "  <thead>\n",
       "    <tr style=\"text-align: right;\">\n",
       "      <th></th>\n",
       "      <th>Senior</th>\n",
       "      <th>Posse</th>\n",
       "      <th>CobrancasMensais</th>\n",
       "      <th>CobrancasTotais</th>\n",
       "    </tr>\n",
       "  </thead>\n",
       "  <tbody>\n",
       "    <tr>\n",
       "      <th>Senior</th>\n",
       "      <td>1.000000</td>\n",
       "      <td>0.016567</td>\n",
       "      <td>0.220173</td>\n",
       "      <td>0.102997</td>\n",
       "    </tr>\n",
       "    <tr>\n",
       "      <th>Posse</th>\n",
       "      <td>0.016567</td>\n",
       "      <td>1.000000</td>\n",
       "      <td>0.247900</td>\n",
       "      <td>0.826164</td>\n",
       "    </tr>\n",
       "    <tr>\n",
       "      <th>CobrancasMensais</th>\n",
       "      <td>0.220173</td>\n",
       "      <td>0.247900</td>\n",
       "      <td>1.000000</td>\n",
       "      <td>0.651182</td>\n",
       "    </tr>\n",
       "    <tr>\n",
       "      <th>CobrancasTotais</th>\n",
       "      <td>0.102997</td>\n",
       "      <td>0.826164</td>\n",
       "      <td>0.651182</td>\n",
       "      <td>1.000000</td>\n",
       "    </tr>\n",
       "  </tbody>\n",
       "</table>\n",
       "</div>"
      ],
      "text/plain": [
       "                    Senior     Posse  CobrancasMensais  CobrancasTotais\n",
       "Senior            1.000000  0.016567          0.220173         0.102997\n",
       "Posse             0.016567  1.000000          0.247900         0.826164\n",
       "CobrancasMensais  0.220173  0.247900          1.000000         0.651182\n",
       "CobrancasTotais   0.102997  0.826164          0.651182         1.000000"
      ]
     },
     "execution_count": 41,
     "metadata": {},
     "output_type": "execute_result"
    }
   ],
   "source": [
    "# Criação de tabela de correlação das variáveis do Dataset\n",
    "dados.corr()"
   ]
  },
  {
   "cell_type": "code",
   "execution_count": 42,
   "id": "fcbfe612",
   "metadata": {},
   "outputs": [
    {
     "name": "stderr",
     "output_type": "stream",
     "text": [
      "C:\\Users\\Supervisor\\AppData\\Local\\Temp\\ipykernel_400\\2355851679.py:2: FutureWarning: The default value of numeric_only in DataFrame.corr is deprecated. In a future version, it will default to False. Select only valid columns or specify the value of numeric_only to silence this warning.\n",
      "  sns.heatmap(dados.corr())\n"
     ]
    },
    {
     "data": {
      "image/png": "[encoded data removed]",
      "text/plain": [
       "<Figure size 400x400 with 2 Axes>"
      ]
     },
     "metadata": {},
     "output_type": "display_data"
    }
   ],
   "source": [
    "# Criação de um heatmap para ilustrar a correlação das variáveis\n",
    "sns.heatmap(dados.corr())\n",
    "sns.set(rc = {'figure.figsize':(4, 4)})"
   ]
  },
  {
   "cell_type": "markdown",
   "id": "a0dd54fd",
   "metadata": {},
   "source": [
    "Podemos observar que através dessa métrica é possível identificar que o tempo de posse de contrato está fortemente correlacionado às cobranças tanto totais quanto mensais. O mesmo ocorre entre as cobranças em si. Contudo, as demais variáveis apresentam pouca ou até mesmo nenhuma correlação entre si.\n",
    "\n",
    "O coeficiente de correlação também é sensível aos outliers nos dados. \n",
    "\n",
    "### Gráficos de Dispersão"
   ]
  },
  {
   "cell_type": "code",
   "execution_count": null,
   "id": "365049d1",
   "metadata": {},
   "outputs": [],
   "source": []
  }
 ],
 "metadata": {
  "colab": {
   "include_colab_link": true,
   "provenance": []
  },
  "kernelspec": {
   "display_name": "Python 3 (ipykernel)",
   "language": "python",
   "name": "python3"
  },
  "language_info": {
   "codemirror_mode": {
    "name": "ipython",
    "version": 3
   },
   "file_extension": ".py",
   "mimetype": "text/x-python",
   "name": "python",
   "nbconvert_exporter": "python",
   "pygments_lexer": "ipython3",
   "version": "3.11.3"
  }
 },
 "nbformat": 4,
 "nbformat_minor": 5
}
