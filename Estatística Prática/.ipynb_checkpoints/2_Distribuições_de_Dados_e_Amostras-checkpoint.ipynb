{
 "cells": [
  {
   "cell_type": "markdown",
   "metadata": {
    "colab_type": "text",
    "id": "view-in-github"
   },
   "source": [
    "<a href=\"https://colab.research.google.com/github/askot19/Analise_de_dados/blob/main/Estat%C3%ADstica%20Pr%C3%A1tica/2_Distribui%C3%A7%C3%B5es_de_Dados_e_Amostras.ipynb\" target=\"_parent\"><img src=\"https://colab.research.google.com/assets/colab-badge.svg\" alt=\"Open In Colab\"/></a>"
   ]
  },
  {
   "cell_type": "markdown",
   "metadata": {
    "id": "6uLD2OygWwz_"
   },
   "source": [
    "# 2. Distribuições de Dados e Amostras\n",
    "\n",
    "Embora estejamos na era do **Big Data**, ainda se torna necessário fazer uso de amostragem para calibração de sistemas e algoritmos. A amostragem é um princípio estatístico e auxilia na criação de modelos preditivos a fim de se utilizar **Machine Learning** para predizer eventos. A amostragem também auxilia na determinação da distribuição dos dados, o que facilita a compreensão dos modelos.\n",
    "\n",
    "### Amostragem Aleatória e Viés de Amostra\n",
    "\n",
    "Uma amostra é um conjunto de dados de um conjunto maior de dados. Os estatísticos chamam esse conjunto maior de *população*. Uma população, em estatística, não é a mesma coisa que em biologia - é um conjunto de dados grande, definido, mas algumas vezes teórico ou imaginário.\n",
    "\n",
    "### Termos-chave para Amostragem Aleatória\n",
    "\n",
    "**Amostra**\n",
    "\n",
    "Um subconjunto de um conjunto maior de dados;\n",
    "\n",
    "**População**\n",
    "\n",
    "O conjunto maior de ados, ou a ideia de um conjunto de dados\n",
    "\n",
    "**Amostragem aleatória**\n",
    "\n",
    "Elementos aleatoriamente obtidos para uma amostra;\n",
    "\n",
    "**N(n)**\n",
    "\n",
    "O tamanho da população (amostra);\n",
    "\n",
    "**Amostragem estratificada**\n",
    "\n",
    "Divide a população em estratos e faz amostragens aleatórias em cada estrato;\n",
    "\n",
    "**Amostra leatória simples**\n",
    "\n",
    "A amostra que resulta de uma amostragem aleatória sem estratificar a população;\n",
    "\n",
    "**Viés de amostragem**\n",
    "\n",
    "Uma amostra que não representa a população.\n",
    "\n",
    "A qualidade dos dados costuma ser mais importante do que a sua quantidade ao fazer uma estimativa ou um modeo com base em uma amostra. A qualidade dos dados em ciência de dados envolve a integralidade, consistência e formato, pureza e precisão de dados pontuais individuais. A estatística inclui a noção de *representatividade*.\n",
    "\n",
    "### Viés\n",
    "\n",
    "O viés estatístico se refere a erros de medição ou amostragem que são sistemáticos e produzidos pelo processo de medição ou amostragem. Deve-se fazer uma distinção importante entre erros devido ao acaso e erros devido ao víes.\n",
    "\n",
    "### Seleção aleatória\n",
    "\n",
    "A seleção aleatória de dados auxília a ter uma representação considerável da população analisada. Ela não garante esta representação, contudo, se aproxima quanto maior for o tamanho da amostra. Também auxilia em diversas questões relativas ao viés, pois, ao depender da região de tratamento da população em que foi retirada a amostra, podemos ter um viés mais acentuado de acordo com as influências dessa região.\n",
    "\n",
    "### Tamanho versus Qualidade: Quando o tamanho importa?\n",
    "\n",
    "Na era em que Big Data é um dos assuntos principais a ser tratado em dados, pode-se dizer que é impressionante dizer que nem sempre ela é necessária. Somente quando tratamos de casos muito complexos em que um grande volume de dados se faz necessário. Um exemplo importante é o sistema de pesquisas do Google, em que pode ser considerado numa modelagem como uma tabela em que os termos pesquisados são as colunas, as pesquisas são as linhas e os registros são determinados por 0  e 1 a fim de se definir se o termo foi utilizado ou não.\n",
    "\n",
    "Diariamente são realizadas trilhões de pesquisas na plataforma, contudo, nem todos os termos são utilizados, então a utilização de Big Data se faz necessária para estruturar pesquisas para se obter os melhores resultados possíveis, pois com a crescente de informações na Web seria impossível se obter os resultados desejados sem uma estruturação de pesquisas de acordo com os termos mais utilizados e com os históricos de acessos, levando em consideração esses termos. Esses conceitos serão mais explorados em *Distribuições de Cauda Longa*.\n",
    "\n",
    "### Média Amostral versus Média Populacional\n",
    "\n",
    "O símbolo $\\bar{x}$ representa a média de uma amostra, enquanto $\\mu$ representa a média de uma população. Essa distinção é realizada por conta de informações sobre grandes populações serem inferidas de amostras menores.\n",
    "\n",
    "### Ideias-chave\n",
    "\n",
    "* Mesmo na era do big data, a amostragem aleatória continua sendo uma flecha importante da aljava do cientista de dados\n",
    "* O viés ocorre quando as medições ou observações estão sistematicamente em erro por não serem representativas da população total\n",
    "* A qualidade dos dados costuma ser mais importante do que sua quantidade, e a amostragem aleatória pode reduzir o viés e facilitar a melhoria da qualidade que seria extremamente cara.\n",
    "\n",
    "### Viés de Seleção\n",
    "\n",
    "O viés de seleção se refere à prática de escolher os dados de fomra seletiva - conscientemente ou inconscientemente -, de modo que isso leva a uma conclusão que é enganosa ou efêmera.\n",
    "\n",
    "### Termos-chave\n",
    "\n",
    "**Viés**\n",
    "\n",
    "Erro sistemático.\n",
    "\n",
    "**Bisbilhotagem de dados**\n",
    "\n",
    "Pesquisa extensa nos dados em busca de algo interessante.\n",
    "\n",
    "**Efeito de busca vasta**\n",
    "\n",
    "Viés ou não representabilidade resultante da modelagem repetitiva de dadosm ou modelagem de dados com grande número de variáveis preditoras.\n",
    "\n",
    "### Regressão à Média\n",
    "\n"
   ]
  },
  {
   "cell_type": "code",
   "execution_count": null,
   "metadata": {},
   "outputs": [],
   "source": []
  }
 ],
 "metadata": {
  "colab": {
   "authorship_tag": "ABX9TyNcYVgojfuMis+unuWFeBI5",
   "include_colab_link": true,
   "provenance": []
  },
  "kernelspec": {
   "display_name": "Python 3 (ipykernel)",
   "language": "python",
   "name": "python3"
  },
  "language_info": {
   "codemirror_mode": {
    "name": "ipython",
    "version": 3
   },
   "file_extension": ".py",
   "mimetype": "text/x-python",
   "name": "python",
   "nbconvert_exporter": "python",
   "pygments_lexer": "ipython3",
   "version": "3.9.13"
  }
 },
 "nbformat": 4,
 "nbformat_minor": 1
}
