{
  "nbformat": 4,
  "nbformat_minor": 0,
  "metadata": {
    "colab": {
      "provenance": [],
      "authorship_tag": "ABX9TyMxXwE+Rv6HErHy5iJ4zXpn",
      "include_colab_link": true
    },
    "kernelspec": {
      "name": "python3",
      "display_name": "Python 3"
    },
    "language_info": {
      "name": "python"
    }
  },
  "cells": [
    {
      "cell_type": "markdown",
      "metadata": {
        "id": "view-in-github",
        "colab_type": "text"
      },
      "source": [
        "<a href=\"https://colab.research.google.com/github/askot19/Analise_de_dados/blob/main/Estat%C3%ADstica%20Pr%C3%A1tica/2_Distribui%C3%A7%C3%B5es_de_Dados_e_Amostras.ipynb\" target=\"_parent\"><img src=\"https://colab.research.google.com/assets/colab-badge.svg\" alt=\"Open In Colab\"/></a>"
      ]
    },
    {
      "cell_type": "markdown",
      "source": [
        "# 2. Distribuições de Dados e Amostras\n",
        "\n",
        "Embora estejamos na era do **Big Data**, ainda se torna necessário fazer uso de amostragem para calibração de sistemas e algoritmos. A amostragem é um princípio estatístico e auxilia na criação de modelos preditivos a fim de se utilizar **Machine Learning** para predizer eventos. A amostragem também auxilia na determinação da distribuição dos dados, o que facilita a compreensão dos modelos.\n",
        "\n",
        "### Amostragem Aleatória e Viés de Amostra\n",
        "\n",
        "Uma amostra é um conjunto de dados de um conjunto maior de dados. Os estatísticos chamam esse conjunto maior de *população*. Uma população, em estatística, não é a mesma coisa que em biologia - é um conjunto de dados grande, definido, mas algumas vezes teórico ou imaginário.\n",
        "\n",
        "### Termos-chave para Amostragem Aleatória\n",
        "\n",
        "**Amostra**\n",
        "\n",
        "Um subconjunto de um conjunto maior de dados;\n",
        "\n",
        "**População**\n",
        "\n",
        "O conjunto maior de ados, ou a ideia de um conjunto de dados\n",
        "\n",
        "**Amostragem aleatória**\n",
        "\n",
        "Elementos aleatoriamente obtidos para uma amostra;\n",
        "\n",
        "**N(n)**\n",
        "\n",
        "O tamanho da população (amostra);\n",
        "\n",
        "**Amostragem estratificada**\n",
        "\n",
        "Divide a população em estratos e faz amostragens aleatórias em cada estrato;\n",
        "\n",
        "**Amostra leatória simples**\n",
        "\n",
        "A amostra que resulta de uma amostragem aleatória sem estratificar a população;\n",
        "\n",
        "**Viés de amostragem**\n",
        "\n",
        "Uma amostra que não representa a população."
      ],
      "metadata": {
        "id": "6uLD2OygWwz_"
      }
    },
    {
      "cell_type": "code",
      "execution_count": null,
      "metadata": {
        "id": "IRNJTXdOV_vo"
      },
      "outputs": [],
      "source": []
    }
  ]
}