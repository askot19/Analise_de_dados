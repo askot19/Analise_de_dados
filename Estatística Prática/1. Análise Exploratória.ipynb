{
  "cells": [
    {
      "cell_type": "markdown",
      "metadata": {
        "id": "view-in-github",
        "colab_type": "text"
      },
      "source": [
        "<a href=\"https://colab.research.google.com/github/askot19/Analise_de_dados/blob/main/Estat%C3%ADstica%20Pr%C3%A1tica/1.%20An%C3%A1lise%20Explorat%C3%B3ria.ipynb\" target=\"_parent\"><img src=\"https://colab.research.google.com/assets/colab-badge.svg\" alt=\"Open In Colab\"/></a>"
      ]
    },
    {
      "cell_type": "markdown",
      "source": [
        "---\n",
        "## **Data Scientist & Analyst**\n",
        "\n",
        "*by [Paulo Henrique de Melo Ferreira](https://www.linkedin.com/in/paulo-henrique-ferreira-20151374/)*\n",
        "\n",
        "---\n",
        "\n",
        "<p style=\"text-align: justify;\">\n",
        "\n",
        "Este notebook visa aprofundar meus conhecimentos acerca de estatística aplicada à Ciência de Dados. Meu objetivo aqui é implementar o que já conheço de estatística por meio do livro ***Estatística prática para cientistas de dados: 50 conceitos essenciais***, e me aprofundar no meio, tornando-me mais capaz, eficiente e eficaz nos meu projetos tanto profissionais quanto pessoais.\n",
        "\n",
        "</p>"
      ],
      "metadata": {
        "id": "FnKJqY-XHoGY"
      },
      "id": "FnKJqY-XHoGY"
    },
    {
      "cell_type": "code",
      "execution_count": 1,
      "id": "10b3479c",
      "metadata": {
        "id": "10b3479c"
      },
      "outputs": [],
      "source": [
        "# Importação das bibliotecas para manipulação e tratamento de dados\n",
        "import pandas as pd\n",
        "import seaborn as sns\n",
        "import numpy as np\n",
        "from matplotlib import pyplot as plt\n",
        "import seaborn as sns\n",
        "from scipy import stats\n",
        "from scipy.stats import trim_mean"
      ]
    },
    {
      "cell_type": "markdown",
      "id": "b1c33998",
      "metadata": {
        "id": "b1c33998"
      },
      "source": [
        "## Métricas Robustas para Localização"
      ]
    },
    {
      "cell_type": "markdown",
      "source": [
        "Métricas que fornecem uma visão geral do conjunto de dados, possibilitam visualizar medidas de tendência central dos dados para posterior inferência dos dados com o auxílio das métricas para variabilidade."
      ],
      "metadata": {
        "id": "kgASnNOm-vH8"
      },
      "id": "kgASnNOm-vH8"
    },
    {
      "cell_type": "code",
      "execution_count": 2,
      "id": "a15c066a",
      "metadata": {
        "id": "a15c066a"
      },
      "outputs": [],
      "source": [
        "# Criação de dataset através de dicionário\n",
        "homicidio = {'Estado': {0: 'Alabama',\n",
        "                        1: 'Alasca',\n",
        "                        2: 'Arizona',\n",
        "                        3: 'Arkansas',\n",
        "                        4: 'Califórnia',\n",
        "                        5: 'Colorado',\n",
        "                        6: 'Connecticut',\n",
        "                        7: 'Delaware'\n",
        "\n",
        "},\n",
        "    'População': {\n",
        "        0: 4779736,\n",
        "        1: 710231,\n",
        "        2: 6392017,\n",
        "        3: 2915918,\n",
        "        4: 37252956,\n",
        "        5: 5029196,\n",
        "        6: 3574097,\n",
        "        7: 897934\n",
        "\n",
        "    },\n",
        "             'Taxa de Homicídio': {0: 5.7,\n",
        "                                  1: 5.6,\n",
        "                                  2: 4.7,\n",
        "                                  3: 5.6,\n",
        "                                  4: 4.4,\n",
        "                                  5: 2.8,\n",
        "                                   6: 2.4,\n",
        "                                   7: 5.8\n",
        "                                  }\n",
        "}"
      ]
    },
    {
      "cell_type": "code",
      "execution_count": 3,
      "id": "f5457ea2",
      "metadata": {
        "colab": {
          "base_uri": "https://localhost:8080/",
          "height": 300
        },
        "id": "f5457ea2",
        "outputId": "6e7a4d22-f278-4a52-9023-132a7c2881a3"
      },
      "outputs": [
        {
          "output_type": "execute_result",
          "data": {
            "text/plain": [
              "        Estado  População  Taxa de Homicídio\n",
              "0      Alabama    4779736                5.7\n",
              "1       Alasca     710231                5.6\n",
              "2      Arizona    6392017                4.7\n",
              "3     Arkansas    2915918                5.6\n",
              "4   Califórnia   37252956                4.4\n",
              "5     Colorado    5029196                2.8\n",
              "6  Connecticut    3574097                2.4\n",
              "7     Delaware     897934                5.8"
            ],
            "text/html": [
              "\n",
              "  <div id=\"df-56066cf2-b486-4cbd-b744-48bd14a739af\" class=\"colab-df-container\">\n",
              "    <div>\n",
              "<style scoped>\n",
              "    .dataframe tbody tr th:only-of-type {\n",
              "        vertical-align: middle;\n",
              "    }\n",
              "\n",
              "    .dataframe tbody tr th {\n",
              "        vertical-align: top;\n",
              "    }\n",
              "\n",
              "    .dataframe thead th {\n",
              "        text-align: right;\n",
              "    }\n",
              "</style>\n",
              "<table border=\"1\" class=\"dataframe\">\n",
              "  <thead>\n",
              "    <tr style=\"text-align: right;\">\n",
              "      <th></th>\n",
              "      <th>Estado</th>\n",
              "      <th>População</th>\n",
              "      <th>Taxa de Homicídio</th>\n",
              "    </tr>\n",
              "  </thead>\n",
              "  <tbody>\n",
              "    <tr>\n",
              "      <th>0</th>\n",
              "      <td>Alabama</td>\n",
              "      <td>4779736</td>\n",
              "      <td>5.7</td>\n",
              "    </tr>\n",
              "    <tr>\n",
              "      <th>1</th>\n",
              "      <td>Alasca</td>\n",
              "      <td>710231</td>\n",
              "      <td>5.6</td>\n",
              "    </tr>\n",
              "    <tr>\n",
              "      <th>2</th>\n",
              "      <td>Arizona</td>\n",
              "      <td>6392017</td>\n",
              "      <td>4.7</td>\n",
              "    </tr>\n",
              "    <tr>\n",
              "      <th>3</th>\n",
              "      <td>Arkansas</td>\n",
              "      <td>2915918</td>\n",
              "      <td>5.6</td>\n",
              "    </tr>\n",
              "    <tr>\n",
              "      <th>4</th>\n",
              "      <td>Califórnia</td>\n",
              "      <td>37252956</td>\n",
              "      <td>4.4</td>\n",
              "    </tr>\n",
              "    <tr>\n",
              "      <th>5</th>\n",
              "      <td>Colorado</td>\n",
              "      <td>5029196</td>\n",
              "      <td>2.8</td>\n",
              "    </tr>\n",
              "    <tr>\n",
              "      <th>6</th>\n",
              "      <td>Connecticut</td>\n",
              "      <td>3574097</td>\n",
              "      <td>2.4</td>\n",
              "    </tr>\n",
              "    <tr>\n",
              "      <th>7</th>\n",
              "      <td>Delaware</td>\n",
              "      <td>897934</td>\n",
              "      <td>5.8</td>\n",
              "    </tr>\n",
              "  </tbody>\n",
              "</table>\n",
              "</div>\n",
              "    <div class=\"colab-df-buttons\">\n",
              "\n",
              "  <div class=\"colab-df-container\">\n",
              "    <button class=\"colab-df-convert\" onclick=\"convertToInteractive('df-56066cf2-b486-4cbd-b744-48bd14a739af')\"\n",
              "            title=\"Convert this dataframe to an interactive table.\"\n",
              "            style=\"display:none;\">\n",
              "\n",
              "  <svg xmlns=\"http://www.w3.org/2000/svg\" height=\"24px\" viewBox=\"0 -960 960 960\">\n",
              "    <path d=\"M120-120v-720h720v720H120Zm60-500h600v-160H180v160Zm220 220h160v-160H400v160Zm0 220h160v-160H400v160ZM180-400h160v-160H180v160Zm440 0h160v-160H620v160ZM180-180h160v-160H180v160Zm440 0h160v-160H620v160Z\"/>\n",
              "  </svg>\n",
              "    </button>\n",
              "\n",
              "  <style>\n",
              "    .colab-df-container {\n",
              "      display:flex;\n",
              "      gap: 12px;\n",
              "    }\n",
              "\n",
              "    .colab-df-convert {\n",
              "      background-color: #E8F0FE;\n",
              "      border: none;\n",
              "      border-radius: 50%;\n",
              "      cursor: pointer;\n",
              "      display: none;\n",
              "      fill: #1967D2;\n",
              "      height: 32px;\n",
              "      padding: 0 0 0 0;\n",
              "      width: 32px;\n",
              "    }\n",
              "\n",
              "    .colab-df-convert:hover {\n",
              "      background-color: #E2EBFA;\n",
              "      box-shadow: 0px 1px 2px rgba(60, 64, 67, 0.3), 0px 1px 3px 1px rgba(60, 64, 67, 0.15);\n",
              "      fill: #174EA6;\n",
              "    }\n",
              "\n",
              "    .colab-df-buttons div {\n",
              "      margin-bottom: 4px;\n",
              "    }\n",
              "\n",
              "    [theme=dark] .colab-df-convert {\n",
              "      background-color: #3B4455;\n",
              "      fill: #D2E3FC;\n",
              "    }\n",
              "\n",
              "    [theme=dark] .colab-df-convert:hover {\n",
              "      background-color: #434B5C;\n",
              "      box-shadow: 0px 1px 3px 1px rgba(0, 0, 0, 0.15);\n",
              "      filter: drop-shadow(0px 1px 2px rgba(0, 0, 0, 0.3));\n",
              "      fill: #FFFFFF;\n",
              "    }\n",
              "  </style>\n",
              "\n",
              "    <script>\n",
              "      const buttonEl =\n",
              "        document.querySelector('#df-56066cf2-b486-4cbd-b744-48bd14a739af button.colab-df-convert');\n",
              "      buttonEl.style.display =\n",
              "        google.colab.kernel.accessAllowed ? 'block' : 'none';\n",
              "\n",
              "      async function convertToInteractive(key) {\n",
              "        const element = document.querySelector('#df-56066cf2-b486-4cbd-b744-48bd14a739af');\n",
              "        const dataTable =\n",
              "          await google.colab.kernel.invokeFunction('convertToInteractive',\n",
              "                                                    [key], {});\n",
              "        if (!dataTable) return;\n",
              "\n",
              "        const docLinkHtml = 'Like what you see? Visit the ' +\n",
              "          '<a target=\"_blank\" href=https://colab.research.google.com/notebooks/data_table.ipynb>data table notebook</a>'\n",
              "          + ' to learn more about interactive tables.';\n",
              "        element.innerHTML = '';\n",
              "        dataTable['output_type'] = 'display_data';\n",
              "        await google.colab.output.renderOutput(dataTable, element);\n",
              "        const docLink = document.createElement('div');\n",
              "        docLink.innerHTML = docLinkHtml;\n",
              "        element.appendChild(docLink);\n",
              "      }\n",
              "    </script>\n",
              "  </div>\n",
              "\n",
              "\n",
              "<div id=\"df-23c31ff9-5e13-42af-a9ac-5fea27a5660a\">\n",
              "  <button class=\"colab-df-quickchart\" onclick=\"quickchart('df-23c31ff9-5e13-42af-a9ac-5fea27a5660a')\"\n",
              "            title=\"Suggest charts.\"\n",
              "            style=\"display:none;\">\n",
              "\n",
              "<svg xmlns=\"http://www.w3.org/2000/svg\" height=\"24px\"viewBox=\"0 0 24 24\"\n",
              "     width=\"24px\">\n",
              "    <g>\n",
              "        <path d=\"M19 3H5c-1.1 0-2 .9-2 2v14c0 1.1.9 2 2 2h14c1.1 0 2-.9 2-2V5c0-1.1-.9-2-2-2zM9 17H7v-7h2v7zm4 0h-2V7h2v10zm4 0h-2v-4h2v4z\"/>\n",
              "    </g>\n",
              "</svg>\n",
              "  </button>\n",
              "\n",
              "<style>\n",
              "  .colab-df-quickchart {\n",
              "      --bg-color: #E8F0FE;\n",
              "      --fill-color: #1967D2;\n",
              "      --hover-bg-color: #E2EBFA;\n",
              "      --hover-fill-color: #174EA6;\n",
              "      --disabled-fill-color: #AAA;\n",
              "      --disabled-bg-color: #DDD;\n",
              "  }\n",
              "\n",
              "  [theme=dark] .colab-df-quickchart {\n",
              "      --bg-color: #3B4455;\n",
              "      --fill-color: #D2E3FC;\n",
              "      --hover-bg-color: #434B5C;\n",
              "      --hover-fill-color: #FFFFFF;\n",
              "      --disabled-bg-color: #3B4455;\n",
              "      --disabled-fill-color: #666;\n",
              "  }\n",
              "\n",
              "  .colab-df-quickchart {\n",
              "    background-color: var(--bg-color);\n",
              "    border: none;\n",
              "    border-radius: 50%;\n",
              "    cursor: pointer;\n",
              "    display: none;\n",
              "    fill: var(--fill-color);\n",
              "    height: 32px;\n",
              "    padding: 0;\n",
              "    width: 32px;\n",
              "  }\n",
              "\n",
              "  .colab-df-quickchart:hover {\n",
              "    background-color: var(--hover-bg-color);\n",
              "    box-shadow: 0 1px 2px rgba(60, 64, 67, 0.3), 0 1px 3px 1px rgba(60, 64, 67, 0.15);\n",
              "    fill: var(--button-hover-fill-color);\n",
              "  }\n",
              "\n",
              "  .colab-df-quickchart-complete:disabled,\n",
              "  .colab-df-quickchart-complete:disabled:hover {\n",
              "    background-color: var(--disabled-bg-color);\n",
              "    fill: var(--disabled-fill-color);\n",
              "    box-shadow: none;\n",
              "  }\n",
              "\n",
              "  .colab-df-spinner {\n",
              "    border: 2px solid var(--fill-color);\n",
              "    border-color: transparent;\n",
              "    border-bottom-color: var(--fill-color);\n",
              "    animation:\n",
              "      spin 1s steps(1) infinite;\n",
              "  }\n",
              "\n",
              "  @keyframes spin {\n",
              "    0% {\n",
              "      border-color: transparent;\n",
              "      border-bottom-color: var(--fill-color);\n",
              "      border-left-color: var(--fill-color);\n",
              "    }\n",
              "    20% {\n",
              "      border-color: transparent;\n",
              "      border-left-color: var(--fill-color);\n",
              "      border-top-color: var(--fill-color);\n",
              "    }\n",
              "    30% {\n",
              "      border-color: transparent;\n",
              "      border-left-color: var(--fill-color);\n",
              "      border-top-color: var(--fill-color);\n",
              "      border-right-color: var(--fill-color);\n",
              "    }\n",
              "    40% {\n",
              "      border-color: transparent;\n",
              "      border-right-color: var(--fill-color);\n",
              "      border-top-color: var(--fill-color);\n",
              "    }\n",
              "    60% {\n",
              "      border-color: transparent;\n",
              "      border-right-color: var(--fill-color);\n",
              "    }\n",
              "    80% {\n",
              "      border-color: transparent;\n",
              "      border-right-color: var(--fill-color);\n",
              "      border-bottom-color: var(--fill-color);\n",
              "    }\n",
              "    90% {\n",
              "      border-color: transparent;\n",
              "      border-bottom-color: var(--fill-color);\n",
              "    }\n",
              "  }\n",
              "</style>\n",
              "\n",
              "  <script>\n",
              "    async function quickchart(key) {\n",
              "      const quickchartButtonEl =\n",
              "        document.querySelector('#' + key + ' button');\n",
              "      quickchartButtonEl.disabled = true;  // To prevent multiple clicks.\n",
              "      quickchartButtonEl.classList.add('colab-df-spinner');\n",
              "      try {\n",
              "        const charts = await google.colab.kernel.invokeFunction(\n",
              "            'suggestCharts', [key], {});\n",
              "      } catch (error) {\n",
              "        console.error('Error during call to suggestCharts:', error);\n",
              "      }\n",
              "      quickchartButtonEl.classList.remove('colab-df-spinner');\n",
              "      quickchartButtonEl.classList.add('colab-df-quickchart-complete');\n",
              "    }\n",
              "    (() => {\n",
              "      let quickchartButtonEl =\n",
              "        document.querySelector('#df-23c31ff9-5e13-42af-a9ac-5fea27a5660a button');\n",
              "      quickchartButtonEl.style.display =\n",
              "        google.colab.kernel.accessAllowed ? 'block' : 'none';\n",
              "    })();\n",
              "  </script>\n",
              "</div>\n",
              "    </div>\n",
              "  </div>\n"
            ]
          },
          "metadata": {},
          "execution_count": 3
        }
      ],
      "source": [
        "# Importação dos dados para um Data Frame\n",
        "dados = pd.DataFrame(homicidio)\n",
        "dados"
      ]
    },
    {
      "cell_type": "code",
      "source": [
        "dados.info()"
      ],
      "metadata": {
        "colab": {
          "base_uri": "https://localhost:8080/"
        },
        "id": "sBLp4ZmvMRkA",
        "outputId": "39a185a2-8aa9-4f8b-dbc5-9a00039d66ae"
      },
      "id": "sBLp4ZmvMRkA",
      "execution_count": 4,
      "outputs": [
        {
          "output_type": "stream",
          "name": "stdout",
          "text": [
            "<class 'pandas.core.frame.DataFrame'>\n",
            "Int64Index: 8 entries, 0 to 7\n",
            "Data columns (total 3 columns):\n",
            " #   Column             Non-Null Count  Dtype  \n",
            "---  ------             --------------  -----  \n",
            " 0   Estado             8 non-null      object \n",
            " 1   População          8 non-null      int64  \n",
            " 2   Taxa de Homicídio  8 non-null      float64\n",
            "dtypes: float64(1), int64(1), object(1)\n",
            "memory usage: 256.0+ bytes\n"
          ]
        }
      ]
    },
    {
      "cell_type": "code",
      "execution_count": 5,
      "id": "5eb1ec78",
      "metadata": {
        "colab": {
          "base_uri": "https://localhost:8080/"
        },
        "id": "5eb1ec78",
        "outputId": "82ccfc9e-4db7-41e1-dc13-0867fb02dd31"
      },
      "outputs": [
        {
          "output_type": "execute_result",
          "data": {
            "text/plain": [
              "7694010.625"
            ]
          },
          "metadata": {},
          "execution_count": 5
        }
      ],
      "source": [
        "# média\n",
        "dados['População'].mean()"
      ]
    },
    {
      "cell_type": "code",
      "execution_count": 6,
      "id": "e53baf06",
      "metadata": {
        "colab": {
          "base_uri": "https://localhost:8080/"
        },
        "id": "e53baf06",
        "outputId": "515fbebd-e8b7-4b30-f683-73f086ab3fca"
      },
      "outputs": [
        {
          "output_type": "execute_result",
          "data": {
            "text/plain": [
              "4074736.75"
            ]
          },
          "metadata": {},
          "execution_count": 6
        }
      ],
      "source": [
        "# média aparada\n",
        "trim_mean(dados.População, 0.25)"
      ]
    },
    {
      "cell_type": "code",
      "execution_count": 7,
      "id": "b7d2fcde",
      "metadata": {
        "colab": {
          "base_uri": "https://localhost:8080/"
        },
        "id": "b7d2fcde",
        "outputId": "896f5fea-ed17-4e57-a558-9e5bff818a7c"
      },
      "outputs": [
        {
          "output_type": "execute_result",
          "data": {
            "text/plain": [
              "4176916.5"
            ]
          },
          "metadata": {},
          "execution_count": 7
        }
      ],
      "source": [
        "# mediana\n",
        "dados['População'].median()"
      ]
    },
    {
      "cell_type": "markdown",
      "id": "06bd9ba9",
      "metadata": {
        "id": "06bd9ba9"
      },
      "source": [
        "## Estimativas de Variabilidade\n",
        "\n",
        "São métricas que estabelecem intervalos de confiabilidade dos dados, baseando-se no próprio conjunto. São medidas que estabelecem um certo \"limite\" para que as incertezas não prejudiquem a análise como um todo, contudo, elas permitem ainda identificar Outliers - pontos fora desse intervalo -, os quais dependendo das análises são os fatores de interesse de nossa análise.\n",
        "\n",
        "Todos os casos envolvendo Outliers devem ser estudados, pois nem sempre a exclusão destes pontos será a solução adequada para uma análise satisfatória, cabe ao analista enxergar a importância ou não a influência deste Outlier."
      ]
    },
    {
      "cell_type": "markdown",
      "source": [
        "**Variância**\n",
        "\n",
        "$S^2=\\frac{\\sum_{i=1}^{n}(x_i-\\overline{x})^2}{n-1}$\n",
        "\n",
        "\n",
        "\n",
        "**Desvio Padrão**\n",
        "\n",
        "$σ=\\sqrt{\\frac{\\sum_{i=1}^{n}(x_i-\\overline{x})^2}{n-1}}$\n",
        "\n",
        "\n",
        "**Desvio Absoluto Médio**\n",
        "\n",
        "$D_m = \\frac{\\sum_{i=1}^{n}|(x_i-\\overline{x})|}{n} $\n",
        "\n",
        "**Desvio absoluto mediano da mediana**\n",
        "\n",
        "A mediana do valor absoluto dos desvios da mediana. (Utilizado quando temos Outliers no problema)\n",
        "\n",
        "**Amplitude**\n",
        "\n",
        "A diferença entre o maior e o menor valor no conjunto de dados\n",
        "\n",
        "\n",
        "---"
      ],
      "metadata": {
        "id": "QHTawWO2Ftks"
      },
      "id": "QHTawWO2Ftks"
    },
    {
      "cell_type": "markdown",
      "source": [
        "## Estatísticas ordinais\n",
        "\n",
        "Métricas baseadas nos valores de dados classificados do menor ao maior.\n",
        "\n",
        "**Percentil**\n",
        "\n",
        "Valor tal que P por cento dos valores assumam esse valor ou menos, e (100-P) por cento assumam esse valor ou mais.\n",
        "\n",
        "**Amplitude interquartílica (IQR)**\n",
        "\n",
        "A diferença entre o 75º percentil e o 25º percentil."
      ],
      "metadata": {
        "id": "Y_RHGB6wJwzk"
      },
      "id": "Y_RHGB6wJwzk"
    },
    {
      "cell_type": "code",
      "source": [
        "# Desvio padrão\n",
        "dados['População'].std()"
      ],
      "metadata": {
        "colab": {
          "base_uri": "https://localhost:8080/"
        },
        "id": "ip9qLIeUMmRJ",
        "outputId": "b96f8b0f-ebac-45a1-dfb6-59a02818fe7d"
      },
      "id": "ip9qLIeUMmRJ",
      "execution_count": 8,
      "outputs": [
        {
          "output_type": "execute_result",
          "data": {
            "text/plain": [
              "12105396.467286125"
            ]
          },
          "metadata": {},
          "execution_count": 8
        }
      ]
    },
    {
      "cell_type": "code",
      "source": [
        "# IQR\n",
        "dados['População'].quantile()"
      ],
      "metadata": {
        "colab": {
          "base_uri": "https://localhost:8080/"
        },
        "id": "iim8WbF5z8h1",
        "outputId": "56c219c1-6fec-4636-bd96-2f8c4a16bd5c"
      },
      "id": "iim8WbF5z8h1",
      "execution_count": 9,
      "outputs": [
        {
          "output_type": "execute_result",
          "data": {
            "text/plain": [
              "4176916.5"
            ]
          },
          "metadata": {},
          "execution_count": 9
        }
      ]
    },
    {
      "cell_type": "code",
      "source": [
        "# Desvio absoluto mediano da mediana (MAD)\n",
        "stats.median_abs_deviation(dados['População'])"
      ],
      "metadata": {
        "colab": {
          "base_uri": "https://localhost:8080/"
        },
        "id": "mIM4jFne0Ir1",
        "outputId": "3c3d2011-9d1d-421c-cce1-7fbf0f8b3cab"
      },
      "id": "mIM4jFne0Ir1",
      "execution_count": 10,
      "outputs": [
        {
          "output_type": "execute_result",
          "data": {
            "text/plain": [
              "1738049.5"
            ]
          },
          "metadata": {},
          "execution_count": 10
        }
      ]
    },
    {
      "cell_type": "markdown",
      "source": [
        "---\n",
        "\n",
        "## Explorando a Distribuição de Dados\n",
        "\n",
        "Cada uma das estimativas vistas anteriormente acaba resumindo os dados em um único número para descrever a localização ou variabilidade dos dados. É útil também explorar como os dados são distribuídos em geral.\n",
        "\n",
        "**Boxplot**\n",
        "\n",
        "Um gráfico apresentado por Tukey como um modo rápido de visualizar a distribuição dos dados.\n",
        "\n",
        "**Tabela de frequências**\n",
        "\n",
        "Um registro da contagem de valores numéricos de dados que caem em um conjunto de intervalos (colunas).\n",
        "\n",
        "**Histograma**\n",
        "\n",
        "Um gráfico da tabela de frequências com as colunas no eixo x e a contagem (ou proporção) no eixo y.\n",
        "\n",
        "**Gráfico de densidade**\n",
        "\n",
        "Uma versão simplificada do histograma, frequentemente usado em estimativas de densidade Kernel.\n",
        "\n",
        "### Percentis e Boxplots\n",
        "\n",
        "Os percentis são úteis para resumir a distribuição dos dados. É comum registrar os quartis (25º, 50º e 75º) e os decis (10º, 20º, ..., 90º). Os percentis são comumente utlizados para resumir *caudas* (a amplitude externa) da distribuição. Valores que ultrapassem 1,5 vezes o IQR são considerados Outliers e representados além dos *Whiskers*."
      ],
      "metadata": {
        "id": "nRxi_ZE22xUc"
      },
      "id": "nRxi_ZE22xUc"
    },
    {
      "cell_type": "code",
      "source": [
        "sns.boxplot(data = dados, y = 'População')"
      ],
      "metadata": {
        "colab": {
          "base_uri": "https://localhost:8080/",
          "height": 443
        },
        "id": "gEt7ZpSe7uqf",
        "outputId": "8b0e9be3-f83b-4e58-d090-13bbeb00a1fc"
      },
      "id": "gEt7ZpSe7uqf",
      "execution_count": 14,
      "outputs": [
        {
          "output_type": "execute_result",
          "data": {
            "text/plain": [
              "<Axes: ylabel='População'>"
            ]
          },
          "metadata": {},
          "execution_count": 14
        },
        {
          "output_type": "display_data",
          "data": {
            "text/plain": [
              "<Figure size 640x480 with 1 Axes>"
            ],
            "image/png": "[encoded data removed]"
          },
          "metadata": {}
        }
      ]
    },
    {
      "cell_type": "markdown",
      "source": [
        "Os boxplots são excelentes ferramentas para visualizações rápidas da distribuição dos dados. No exemplo acima vemos uma distribuição concentrada próxima de 5 milhões de habitantes destacadas na região azul, e um único ponto como Outlier acima de 35 milhões de habitantes. A mediana é o traçado próximo ao centro do box, com valor inferior a 5 milhões de habitantes. A região azul é e a denominada de IQR, a amplitude entre os intervalos de 25º e 75º quartis dos dados.\n",
        "\n",
        "### Tabela de Frequências e Histogramas\n",
        "\n",
        "Uma tabela de frequências de uma variável divide a amplitude variável em segmentos igualmente espaçados e nos diz quantos valores caem em cada segmento."
      ],
      "metadata": {
        "id": "8dJzDMSS7tf8"
      },
      "id": "8dJzDMSS7tf8"
    },
    {
      "cell_type": "code",
      "source": [
        "ax = sns.histplot(data = dados, x = 'População', stat = 'frequency', kde = True)\n",
        "ax.set(title = 'Histograma da População', xlabel='População', ylabel='Frequência')"
      ],
      "metadata": {
        "colab": {
          "base_uri": "https://localhost:8080/",
          "height": 524
        },
        "id": "NJDYMWoT3Jos",
        "outputId": "9757dfd5-2dac-42ce-fc74-8bb26ef5d140"
      },
      "id": "NJDYMWoT3Jos",
      "execution_count": 12,
      "outputs": [
        {
          "output_type": "execute_result",
          "data": {
            "text/plain": [
              "[Text(0.5, 1.0, 'Histograma da População'),\n",
              " Text(0.5, 0, 'População'),\n",
              " Text(0, 0.5, 'Frequência')]"
            ]
          },
          "metadata": {},
          "execution_count": 12
        },
        {
          "output_type": "display_data",
          "data": {
            "text/plain": [
              "<Figure size 640x480 with 1 Axes>"
            ],
            "image/png": "[encoded data removed]"
          },
          "metadata": {}
        }
      ]
    },
    {
      "cell_type": "markdown",
      "source": [
        "O histograma basicamente serve para observarmos a distribuição dos dados, esta primeira análise é um excelente guia de como devemos tratar os dados e enxergar determinados fatores do conjunto de dados apresentados.\n",
        "\n",
        "Através deste histograma podemos observar que há uma certa concentração dos valores da população em torno de 5 milhões de habitantes. É possível também observar um *Outlier* próximo de 35 milhões de habitantes (Califórnia).\n",
        "\n",
        "Possuímos um Dataset pequeno neste caso, contudo, ele exemplifica uma possível distribuição. No geral, devemos nos atentar à nossa amostra, uma vez que os histogramas somente serão úteis quando possuirmos no mínimo 20 medidas diferentes para se realizar alguma inferência inicial, ao se utilizar histogramas.\n",
        "\n",
        "Localização é denominada como primeiro momento estatístico, enquanto a variabilidade é tratada como segundo momento estatístico. Ao mesmo passo os terceiro e quarto momentos são denominados de ***assimetria*** e ***curtose***. A ***assimetria*** indica se os dados estão inclinados a valores maiores ou menores, enquanto a ***curstose*** está associada à propensão dos dados possuírem valores extremos."
      ],
      "metadata": {
        "id": "7JZXbexr4Nyk"
      },
      "id": "7JZXbexr4Nyk"
    },
    {
      "cell_type": "code",
      "source": [],
      "metadata": {
        "id": "abz3RUxJKXZO"
      },
      "id": "abz3RUxJKXZO",
      "execution_count": 12,
      "outputs": []
    }
  ],
  "metadata": {
    "kernelspec": {
      "display_name": "Python 3 (ipykernel)",
      "language": "python",
      "name": "python3"
    },
    "language_info": {
      "codemirror_mode": {
        "name": "ipython",
        "version": 3
      },
      "file_extension": ".py",
      "mimetype": "text/x-python",
      "name": "python",
      "nbconvert_exporter": "python",
      "pygments_lexer": "ipython3",
      "version": "3.9.13"
    },
    "colab": {
      "provenance": [],
      "include_colab_link": true
    }
  },
  "nbformat": 4,
  "nbformat_minor": 5
}