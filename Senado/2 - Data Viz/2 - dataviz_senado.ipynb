{
 "cells": [
  {
   "cell_type": "markdown",
   "metadata": {
    "id": "T-vr71F68Sae"
   },
   "source": [
    "# Relatório de Análises\n",
    "O seguinte projeto visa obter dados da transparência governamental, focados nos últimos quatro anos do Senado brasileiro (CEAP - Cota para Exercício da Atividade Parlamentar). O objetivo deste projeto é praticar as principais ferramentas envolvendo Ciência de Dados e produzir um relatório completo através da linguagem de programação Python e aplicar conceitos introdutórios de Machine Learning.\n",
    "\n",
    "A ideia por trás é simular a Operação Serenata de Amor, que utilizou-se do algoritmo Rosie, uma inteligência artificial capaz de analisar os gastos reembolsados pela CEAP, de deputados federais e senadores, feitos em exercício de sua função, identificando suspeitas e incentivando a população a questioná-los."
   ]
  },
  {
   "cell_type": "markdown",
   "metadata": {
    "id": "u_VWphIGGa3p"
   },
   "source": [
    "# 2. Visualização de Dados"
   ]
  },
  {
   "cell_type": "code",
   "execution_count": 1,
   "metadata": {
    "id": "pihiUuKC5D54"
   },
   "outputs": [],
   "source": [
    "# Importação das bibliotecas para manipulação e tratamento de dados\n",
    "import pandas as pd\n",
    "import seaborn as sns\n",
    "import numpy as np\n",
    "from matplotlib import pyplot as plt\n",
    "import seaborn as sns\n",
    "from scipy import stats\n",
    "from scipy.stats import trim_mean"
   ]
  },
  {
   "cell_type": "code",
   "execution_count": 8,
   "metadata": {
    "id": "v3hzJWus-D8P",
    "scrolled": true
   },
   "outputs": [
    {
     "data": {
      "text/html": [
       "<div>\n",
       "<style scoped>\n",
       "    .dataframe tbody tr th:only-of-type {\n",
       "        vertical-align: middle;\n",
       "    }\n",
       "\n",
       "    .dataframe tbody tr th {\n",
       "        vertical-align: top;\n",
       "    }\n",
       "\n",
       "    .dataframe thead th {\n",
       "        text-align: right;\n",
       "    }\n",
       "</style>\n",
       "<table border=\"1\" class=\"dataframe\">\n",
       "  <thead>\n",
       "    <tr style=\"text-align: right;\">\n",
       "      <th></th>\n",
       "      <th>ANO</th>\n",
       "      <th>SENADOR</th>\n",
       "      <th>TIPO_DESPESA</th>\n",
       "      <th>CNPJ_CPF</th>\n",
       "      <th>FORNECEDOR</th>\n",
       "      <th>DETALHAMENTO</th>\n",
       "      <th>VALOR_REEMBOLSADO</th>\n",
       "    </tr>\n",
       "  </thead>\n",
       "  <tbody>\n",
       "    <tr>\n",
       "      <th>0</th>\n",
       "      <td>2010-01-01</td>\n",
       "      <td>ACIR GURGACZ</td>\n",
       "      <td>Aluguel de imóveis para escritório político, c...</td>\n",
       "      <td>05.914.650/0001-66</td>\n",
       "      <td>CENTRAIS ELÉTRICAS DE RONDÔNIA</td>\n",
       "      <td>Aluguel de imóveis para escritório político, c...</td>\n",
       "      <td>59.08</td>\n",
       "    </tr>\n",
       "    <tr>\n",
       "      <th>1</th>\n",
       "      <td>2010-01-01</td>\n",
       "      <td>ACIR GURGACZ</td>\n",
       "      <td>Aluguel de imóveis para escritório político, c...</td>\n",
       "      <td>05.914.650/0001-66</td>\n",
       "      <td>CENTRAIS ELÉTRICAS DE RONDônia</td>\n",
       "      <td>Aluguel de imóveis para escritório político, c...</td>\n",
       "      <td>40.47</td>\n",
       "    </tr>\n",
       "    <tr>\n",
       "      <th>2</th>\n",
       "      <td>2010-01-01</td>\n",
       "      <td>ACIR GURGACZ</td>\n",
       "      <td>Aluguel de imóveis para escritório político, c...</td>\n",
       "      <td>004.948.028-63</td>\n",
       "      <td>GILBERTO PISELO DO NASCIMENTO</td>\n",
       "      <td>Aluguel de imóveis para escritório político, c...</td>\n",
       "      <td>5000.00</td>\n",
       "    </tr>\n",
       "    <tr>\n",
       "      <th>3</th>\n",
       "      <td>2010-01-01</td>\n",
       "      <td>ACIR GURGACZ</td>\n",
       "      <td>Divulgação da atividade parlamentar</td>\n",
       "      <td>09.040.457/0001-02</td>\n",
       "      <td>CENTRAL RONDÔNIA.COM</td>\n",
       "      <td>Divulgação da atividade parlamentar</td>\n",
       "      <td>1500.00</td>\n",
       "    </tr>\n",
       "    <tr>\n",
       "      <th>4</th>\n",
       "      <td>2010-01-01</td>\n",
       "      <td>ACIR GURGACZ</td>\n",
       "      <td>Locomoção, hospedagem, alimentação, combustíve...</td>\n",
       "      <td>15.896.509/0001-31</td>\n",
       "      <td>POSTO FORTALEZA</td>\n",
       "      <td>Locomoção, hospedagem, alimentação, combustíve...</td>\n",
       "      <td>30.00</td>\n",
       "    </tr>\n",
       "  </tbody>\n",
       "</table>\n",
       "</div>"
      ],
      "text/plain": [
       "          ANO       SENADOR  \\\n",
       "0  2010-01-01  ACIR GURGACZ   \n",
       "1  2010-01-01  ACIR GURGACZ   \n",
       "2  2010-01-01  ACIR GURGACZ   \n",
       "3  2010-01-01  ACIR GURGACZ   \n",
       "4  2010-01-01  ACIR GURGACZ   \n",
       "\n",
       "                                        TIPO_DESPESA            CNPJ_CPF  \\\n",
       "0  Aluguel de imóveis para escritório político, c...  05.914.650/0001-66   \n",
       "1  Aluguel de imóveis para escritório político, c...  05.914.650/0001-66   \n",
       "2  Aluguel de imóveis para escritório político, c...      004.948.028-63   \n",
       "3                Divulgação da atividade parlamentar  09.040.457/0001-02   \n",
       "4  Locomoção, hospedagem, alimentação, combustíve...  15.896.509/0001-31   \n",
       "\n",
       "                       FORNECEDOR  \\\n",
       "0  CENTRAIS ELÉTRICAS DE RONDÔNIA   \n",
       "1  CENTRAIS ELÉTRICAS DE RONDônia   \n",
       "2   GILBERTO PISELO DO NASCIMENTO   \n",
       "3            CENTRAL RONDÔNIA.COM   \n",
       "4                 POSTO FORTALEZA   \n",
       "\n",
       "                                        DETALHAMENTO  VALOR_REEMBOLSADO  \n",
       "0  Aluguel de imóveis para escritório político, c...              59.08  \n",
       "1  Aluguel de imóveis para escritório político, c...              40.47  \n",
       "2  Aluguel de imóveis para escritório político, c...            5000.00  \n",
       "3                Divulgação da atividade parlamentar            1500.00  \n",
       "4  Locomoção, hospedagem, alimentação, combustíve...              30.00  "
      ]
     },
     "execution_count": 8,
     "metadata": {},
     "output_type": "execute_result"
    }
   ],
   "source": [
    "# Importação de dados\n",
    "\n",
    "dados = pd.read_csv('export/dados_2010_2022.csv')\n",
    "dados.head()"
   ]
  },
  {
   "cell_type": "code",
   "execution_count": 10,
   "metadata": {
    "scrolled": true
   },
   "outputs": [
    {
     "data": {
      "text/plain": [
       "[Text(0.5, 1.0, 'Histograma do Valor Reembolsado'),\n",
       " Text(0.5, 0, 'Valor Reembolsado'),\n",
       " Text(0, 0.5, 'Contagem')]"
      ]
     },
     "execution_count": 10,
     "metadata": {},
     "output_type": "execute_result"
    },
    {
     "data": {
      "image/png": "[encoded data removed]",
      "text/plain": [
       "<Figure size 640x480 with 1 Axes>"
      ]
     },
     "metadata": {},
     "output_type": "display_data"
    }
   ],
   "source": [
    "ax = sns.histplot(dados, x = 'VALOR_REEMBOLSADO', stat = 'count')\n",
    "ax.set(title = 'Histograma do Valor Reembolsado', xlabel = 'Valor Reembolsado', ylabel = 'Contagem')"
   ]
  },
  {
   "cell_type": "code",
   "execution_count": null,
   "metadata": {},
   "outputs": [],
   "source": []
  }
 ],
 "metadata": {
  "colab": {
   "authorship_tag": "ABX9TyP+t3QKQIlsAmsiQKTuO9Fw",
   "provenance": []
  },
  "kernelspec": {
   "display_name": "Python 3 (ipykernel)",
   "language": "python",
   "name": "python3"
  },
  "language_info": {
   "codemirror_mode": {
    "name": "ipython",
    "version": 3
   },
   "file_extension": ".py",
   "mimetype": "text/x-python",
   "name": "python",
   "nbconvert_exporter": "python",
   "pygments_lexer": "ipython3",
   "version": "3.9.13"
  }
 },
 "nbformat": 4,
 "nbformat_minor": 1
}
