{
  "cells": [
    {
      "cell_type": "markdown",
      "metadata": {
        "id": "view-in-github",
        "colab_type": "text"
      },
      "source": [
        "<a href=\"https://colab.research.google.com/github/askot19/Analise_de_dados/blob/main/Projetos%20de%20Ci%C3%AAncia%20de%20Dados%20com%20Python/Cap%C3%ADtulo%201/ex105-104.ipynb\" target=\"_parent\"><img src=\"https://colab.research.google.com/assets/colab-badge.svg\" alt=\"Open In Colab\"/></a>"
      ]
    },
    {
      "cell_type": "markdown",
      "metadata": {
        "id": "X6417ZBqpyPC"
      },
      "source": [
        "---\n",
        "## **Data Scientist & Analyst**\n",
        "\n",
        "*by [Paulo Henrique de Melo Ferreira](https://www.linkedin.com/in/paulo-henrique-ferreira-20151374/)*\n",
        "\n",
        "---\n",
        "\n",
        "<p style=\"text-align: justify;\">\n",
        "\n",
        "Este notebook visa aprofundar meus conhecimentos práticos em Ciência de Dados. Meu objetivo aqui é implementar o que já conheço da linguagem Python e desenvolver projetos completos acerca da área. Como bibliografia básica utlizarei o **Projetos de Ciência de Dados com Python - Stephen Klosterman**, que visa tratar dados desde o tipo de a análise mais simples (exploratória de dados) até aplicações envolvendo modelos preditivos e Machine Learning. As ferramentas que utilizarei serão principalmente o **Colaboratory do Google** e o **Jupyter Notebook - Anaconda**. O intuito aqui é consumir toda a literatura e me inserir do dia-a-dia de um profissional de dados, atuando tanto como Cientista quanto como Analista de Dados. Pretendo me tornar um profissional mais qualificado após estes desenvolvimentos.\n",
        "</p>\n",
        "\n",
        "---"
      ]
    },
    {
      "cell_type": "markdown",
      "metadata": {
        "id": "ockjENLrruur"
      },
      "source": [
        "# 1. Exploração e Limpeza de Dados\n",
        "\n",
        "#### Objetivos\n",
        "\n",
        "Neste primeiro capítulo serão dados os primeiros passos com Python para ciência de dados, após a conclusão dele serei capaz de lidar com dados tabulares em Python, realizar análise exploratória de dados, Garantir a qualidade dos dados que estou utilizando e realizar a limpeza dos dados."
      ]
    },
    {
      "cell_type": "code",
      "execution_count": 1,
      "metadata": {
        "id": "xVpj05kdpiQB"
      },
      "outputs": [],
      "source": [
        "# Carregando pacotes necessários para a análise de dados\n",
        "import pandas as pd\n",
        "import numpy as np"
      ]
    },
    {
      "cell_type": "code",
      "execution_count": 2,
      "metadata": {
        "id": "JvvnZvfEq1Yp",
        "outputId": "bda4d170-86d8-4b2d-adbc-17b2c18ae868",
        "colab": {
          "base_uri": "https://localhost:8080/"
        }
      },
      "outputs": [
        {
          "output_type": "stream",
          "name": "stdout",
          "text": [
            "<class 'pandas.core.frame.DataFrame'>\n",
            "RangeIndex: 29685 entries, 0 to 29684\n",
            "Data columns (total 25 columns):\n",
            " #   Column                      Non-Null Count  Dtype \n",
            "---  ------                      --------------  ----- \n",
            " 0   ID                          29685 non-null  object\n",
            " 1   LIMIT_BAL                   29685 non-null  int64 \n",
            " 2   SEX                         29685 non-null  int64 \n",
            " 3   EDUCATION                   29685 non-null  int64 \n",
            " 4   MARRIAGE                    29685 non-null  int64 \n",
            " 5   AGE                         29685 non-null  int64 \n",
            " 6   PAY_1                       29685 non-null  object\n",
            " 7   PAY_2                       29685 non-null  int64 \n",
            " 8   PAY_3                       29685 non-null  int64 \n",
            " 9   PAY_4                       29685 non-null  int64 \n",
            " 10  PAY_5                       29685 non-null  int64 \n",
            " 11  PAY_6                       29685 non-null  int64 \n",
            " 12  BILL_AMT1                   29685 non-null  int64 \n",
            " 13  BILL_AMT2                   29685 non-null  int64 \n",
            " 14  BILL_AMT3                   29685 non-null  int64 \n",
            " 15  BILL_AMT4                   29685 non-null  int64 \n",
            " 16  BILL_AMT5                   29685 non-null  int64 \n",
            " 17  BILL_AMT6                   29685 non-null  int64 \n",
            " 18  PAY_AMT1                    29685 non-null  int64 \n",
            " 19  PAY_AMT2                    29685 non-null  int64 \n",
            " 20  PAY_AMT3                    29685 non-null  int64 \n",
            " 21  PAY_AMT4                    29685 non-null  int64 \n",
            " 22  PAY_AMT5                    29685 non-null  int64 \n",
            " 23  PAY_AMT6                    29685 non-null  int64 \n",
            " 24  default payment next month  29685 non-null  int64 \n",
            "dtypes: int64(23), object(2)\n",
            "memory usage: 5.7+ MB\n"
          ]
        }
      ],
      "source": [
        "# Importando dados\n",
        "df_clean_1 = pd.read_csv('https://raw.githubusercontent.com/askot19/Analise_de_dados/main/Projetos%20de%20Ci%C3%AAncia%20de%20Dados%20com%20Python/Cap%C3%ADtulo%201/df_clean_1.csv')\n",
        "df_clean_1.info()"
      ]
    },
    {
      "cell_type": "markdown",
      "source": [
        "Como podemos ver os dados são referentes a contas e bancárias de clientes, contudo uma das colunas apresenta DataType divergente daquele que é adequado. A coluna **`PAY_1`** apresenta seu valor como do tipo *string*, como a coluna representa um pagamento, muito há algum erro nela."
      ],
      "metadata": {
        "id": "iMqfiyzdQfb9"
      }
    },
    {
      "cell_type": "code",
      "source": [],
      "metadata": {
        "id": "AEJe13hJPz4W"
      },
      "execution_count": 2,
      "outputs": []
    }
  ],
  "metadata": {
    "colab": {
      "provenance": [],
      "include_colab_link": true
    },
    "kernelspec": {
      "display_name": "Python 3 (ipykernel)",
      "language": "python",
      "name": "python3"
    },
    "language_info": {
      "codemirror_mode": {
        "name": "ipython",
        "version": 3
      },
      "file_extension": ".py",
      "mimetype": "text/x-python",
      "name": "python",
      "nbconvert_exporter": "python",
      "pygments_lexer": "ipython3",
      "version": "3.9.13"
    }
  },
  "nbformat": 4,
  "nbformat_minor": 0
}