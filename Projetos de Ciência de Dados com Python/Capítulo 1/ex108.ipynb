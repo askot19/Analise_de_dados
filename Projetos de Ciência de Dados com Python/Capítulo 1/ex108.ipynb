{
  "cells": [
    {
      "cell_type": "markdown",
      "metadata": {
        "id": "view-in-github",
        "colab_type": "text"
      },
      "source": [
        "<a href=\"https://colab.research.google.com/github/askot19/Analise_de_dados/blob/main/Projetos%20de%20Ci%C3%AAncia%20de%20Dados%20com%20Python/Cap%C3%ADtulo%201/ex108.ipynb\" target=\"_parent\"><img src=\"https://colab.research.google.com/assets/colab-badge.svg\" alt=\"Open In Colab\"/></a>"
      ]
    },
    {
      "cell_type": "markdown",
      "metadata": {
        "id": "X6417ZBqpyPC"
      },
      "source": [
        "---\n",
        "## **Data Scientist & Analyst**\n",
        "\n",
        "*by [Paulo Henrique de Melo Ferreira](https://www.linkedin.com/in/paulo-henrique-ferreira-20151374/)*\n",
        "\n",
        "---\n",
        "\n",
        "<p style=\"text-align: justify;\">\n",
        "\n",
        "Este notebook visa aprofundar meus conhecimentos práticos em Ciência de Dados. Meu objetivo aqui é implementar o que já conheço da linguagem Python e desenvolver projetos completos acerca da área. Como bibliografia básica utlizarei o **Projetos de Ciência de Dados com Python - Stephen Klosterman**, que visa tratar dados desde o tipo de a análise mais simples (exploratória de dados) até aplicações envolvendo modelos preditivos e Machine Learning. As ferramentas que utilizarei serão principalmente o **Colaboratory do Google** e o **Jupyter Notebook - Anaconda**. O intuito aqui é consumir toda a literatura e me inserir do dia-a-dia de um profissional de dados, atuando tanto como Cientista quanto como Analista de Dados. Pretendo me tornar um profissional mais qualificado após estes desenvolvimentos.\n",
        "</p>\n",
        "\n",
        "---"
      ]
    },
    {
      "cell_type": "markdown",
      "metadata": {
        "id": "ockjENLrruur"
      },
      "source": [
        "# 1. Exploração e Limpeza de Dados\n",
        "\n",
        "#### Objetivos\n",
        "\n",
        "Neste primeiro capítulo serão dados os primeiros passos com Python para ciência de dados, após a conclusão dele serei capaz de lidar com dados tabulares em Python, realizar análise exploratória de dados, Garantir a qualidade dos dados que estou utilizando e realizar a limpeza dos dados."
      ]
    },
    {
      "cell_type": "markdown",
      "source": [
        "## Características do Dataset\n",
        "\n",
        "* `ID`: Código de identificação da conta\n",
        "* `LIMIT_BAL`: Valor do Crédito fornecido (em novos dólares taiwaneses (NT)) inclusive o crédito do consumidor individual e familiar (complementar).\n",
        "* `SEX`: Gênero (1 = masculino; 2 = feminino).\n",
        "* `EDUCATION`: Instrução (1 = pós-graduação; 2 = universidade; 3 = ensino médio; 4 = outros).\n",
        "* `MARRIAGE`: Estado civil (1 = casado; 2 = solteiro; 3 = outros).\n",
        "* `AGE`: Idade (ano).\n",
        "* `PAY_1-PAY_6`: Registro de pagamentos passados. Pagamentos mensais passados, registrados de setembro a abril. Ex.: PAY_1 representa o status de reembolso em setembro; PAY_2 representa o status de reembolso em agosto, e a assim por diante. Os registros são armazenados da seguinte maneira -2 significa que a conta começou o mês com o saldo zerado e nunca foi usado crédito algum; -1 = conta teve pagamento integral do valor devido; 0 significa que ao menos foi realizado o pagamento mínimo, mas não foi paga a fatura integral (o saldo restante foi carregado para o mês seguinte); 1 = atraso de um mês de pagamento; 2 = atraso de dois meses de pagamento até chegar em 9 = atraso de nove meses ou mais no pagamento.\n",
        "* `BILL_AMT1-BILL_AMT6`: Valor da fatura (em novos dólares taiwaneses). BILL_ATM1 representa o valor da fatura em setembro; BILL_AMT2 representa o valor da fatura em agosto; e assim por diante até BILL_AMT6, que representa o valor da fatura em abril.\n",
        "* `PAY_AMT1-PAY_AMT6`: Valor de pagamentos anteriores (novos dólares taiwaneses). PAY_AMT1 representa o valor pago em setembro; PAY_AMT2 representa o valor pago em agosto; e assim por diante até PAY_AMT6, que representa o valor pago em abril.\n"
      ],
      "metadata": {
        "id": "e89lu8V6S4us"
      }
    },
    {
      "cell_type": "code",
      "execution_count": 22,
      "metadata": {
        "id": "xVpj05kdpiQB"
      },
      "outputs": [],
      "source": [
        "import pandas as pd\n",
        "import matplotlib.pyplot as plt #pacote de gráficos\n",
        "#Renderização automática\n",
        "%matplotlib inline\n",
        "import matplotlib as mpl #Funções gráficas adicionais\n",
        "mpl.rcParams['figure.dpi'] = 100 #Resolução de 100dpi para as imagens\n",
        "mpl.rcParams['font.size'] = 4 #Ajuste do tamanho da fonte\n",
        "import numpy as np\n",
        "import seaborn as sns"
      ]
    },
    {
      "cell_type": "code",
      "source": [
        "df = pd.read_csv('https://raw.githubusercontent.com/askot19/Analise_de_dados/main/Projetos%20de%20Ci%C3%AAncia%20de%20Dados%20com%20Python/Cap%C3%ADtulo%201/Chapter_1_cleaned_data.csv')"
      ],
      "metadata": {
        "id": "1FXqwiuH8-dP"
      },
      "execution_count": 2,
      "outputs": []
    },
    {
      "cell_type": "code",
      "source": [
        "df.columns"
      ],
      "metadata": {
        "colab": {
          "base_uri": "https://localhost:8080/"
        },
        "id": "hCmsi5Srdc4-",
        "outputId": "5431e5bf-93a1-481a-a5ee-dcc3d9a0b775"
      },
      "execution_count": 12,
      "outputs": [
        {
          "output_type": "execute_result",
          "data": {
            "text/plain": [
              "Index(['ID', 'LIMIT_BAL', 'SEX', 'EDUCATION', 'MARRIAGE', 'AGE', 'PAY_1',\n",
              "       'PAY_2', 'PAY_3', 'PAY_4', 'PAY_5', 'PAY_6', 'BILL_AMT1', 'BILL_AMT2',\n",
              "       'BILL_AMT3', 'BILL_AMT4', 'BILL_AMT5', 'BILL_AMT6', 'PAY_AMT1',\n",
              "       'PAY_AMT2', 'PAY_AMT3', 'PAY_AMT4', 'PAY_AMT5', 'PAY_AMT6',\n",
              "       'default payment next month', 'EDUCATION_CAT', 'graduate school',\n",
              "       'high school', 'others', 'university'],\n",
              "      dtype='object')"
            ]
          },
          "metadata": {},
          "execution_count": 12
        }
      ]
    },
    {
      "cell_type": "code",
      "source": [
        "amt_feats = ['PAY_AMT1', 'PAY_AMT2', 'PAY_AMT3', 'PAY_AMT4', 'PAY_AMT5', 'PAY_AMT6']"
      ],
      "metadata": {
        "id": "PZL415HULixs"
      },
      "execution_count": 11,
      "outputs": []
    },
    {
      "cell_type": "code",
      "source": [
        "#Tamanho das figuras\n",
        "fig = plt.figure(figsize = (8,8))\n",
        "\n",
        "#Gráfico 1 - Hist Amt1\n",
        "fig.add_subplot(231)\n",
        "df[amt_feats[0]].hist()\n",
        "plt.xlabel(amt_feats[0])\n",
        "\n",
        "#Gráfico 2 - Hist Amt2\n",
        "fig.add_subplot(232)\n",
        "df[amt_feats[1]].hist()\n",
        "plt.xlabel(amt_feats[1])\n",
        "\n",
        "#Gráfico 3 - Hist Amt3\n",
        "fig.add_subplot(233)\n",
        "df[amt_feats[2]].hist()\n",
        "plt.xlabel(amt_feats[2])\n",
        "\n",
        "#Gráfico 4 - Hist Amt4\n",
        "fig.add_subplot(234)\n",
        "df[amt_feats[3]].hist()\n",
        "plt.xlabel(amt_feats[3])\n",
        "\n",
        "#Gráfico 5 - Hist Amt5\n",
        "fig.add_subplot(235)\n",
        "df[amt_feats[4]].hist()\n",
        "plt.xlabel(amt_feats[4])\n",
        "\n",
        "#Gráfico 6 - Hist Amt6\n",
        "fig.add_subplot(236)\n",
        "df[amt_feats[5]].hist()\n",
        "plt.xlabel(amt_feats[5])"
      ],
      "metadata": {
        "id": "VwbtXu1inFYy",
        "outputId": "9e51ea8e-fb41-4e32-afea-009290783bb5",
        "colab": {
          "base_uri": "https://localhost:8080/",
          "height": 695
        }
      },
      "execution_count": 27,
      "outputs": [
        {
          "output_type": "execute_result",
          "data": {
            "text/plain": [
              "Text(0.5, 0, 'PAY_AMT6')"
            ]
          },
          "metadata": {},
          "execution_count": 27
        },
        {
          "output_type": "display_data",
          "data": {
            "text/plain": [
              "<Figure size 800x800 with 6 Axes>"
            ],
            "image/png": "[encoded data removed]"
          },
          "metadata": {}
        }
      ]
    },
    {
      "cell_type": "code",
      "source": [
        "bill_feats = ['BILL_AMT1', 'BILL_AMT2', 'BILL_AMT3', 'BILL_AMT4', 'BILL_AMT5', 'BILL_AMT6']"
      ],
      "metadata": {
        "id": "BoM6nF9tdVeW"
      },
      "execution_count": 14,
      "outputs": []
    },
    {
      "cell_type": "code",
      "source": [
        "#Tamanho das figuras\n",
        "fig = plt.figure(figsize = (8,8))\n",
        "\n",
        "#Gráfico 1 - Hist Bill1\n",
        "fig.add_subplot(231)\n",
        "df[bill_feats[0]].hist()\n",
        "plt.xlabel(bill_feats[0])\n",
        "\n",
        "#Gráfico 2 - Hist Bill2\n",
        "fig.add_subplot(232)\n",
        "df[bill_feats[1]].hist()\n",
        "plt.xlabel(bill_feats[1])\n",
        "\n",
        "#Gráfico 3 - Hist Bill3\n",
        "fig.add_subplot(233)\n",
        "df[bill_feats[2]].hist()\n",
        "plt.xlabel(bill_feats[2])\n",
        "\n",
        "#Gráfico 4 - Hist Bill4\n",
        "fig.add_subplot(234)\n",
        "df[bill_feats[3]].hist()\n",
        "plt.xlabel(bill_feats[3])\n",
        "\n",
        "#Gráfico 5 - Hist Bill5\n",
        "fig.add_subplot(235)\n",
        "df[bill_feats[4]].hist()\n",
        "plt.xlabel(bill_feats[4])\n",
        "\n",
        "#Gráfico 6 - Hist Bill6\n",
        "fig.add_subplot(236)\n",
        "df[bill_feats[5]].hist()\n",
        "plt.xlabel(bill_feats[5])"
      ],
      "metadata": {
        "colab": {
          "base_uri": "https://localhost:8080/",
          "height": 695
        },
        "id": "__s7Hthwdxbm",
        "outputId": "83707513-e455-4634-a48e-43b86390eb7e"
      },
      "execution_count": 26,
      "outputs": [
        {
          "output_type": "execute_result",
          "data": {
            "text/plain": [
              "Text(0.5, 0, 'BILL_AMT6')"
            ]
          },
          "metadata": {},
          "execution_count": 26
        },
        {
          "output_type": "display_data",
          "data": {
            "text/plain": [
              "<Figure size 800x800 with 6 Axes>"
            ],
            "image/png": "[encoded data removed]"
          },
          "metadata": {}
        }
      ]
    },
    {
      "cell_type": "code",
      "source": [],
      "metadata": {
        "id": "HsoExx28hggn"
      },
      "execution_count": null,
      "outputs": []
    }
  ],
  "metadata": {
    "colab": {
      "provenance": [],
      "include_colab_link": true
    },
    "kernelspec": {
      "display_name": "Python 3 (ipykernel)",
      "language": "python",
      "name": "python3"
    },
    "language_info": {
      "codemirror_mode": {
        "name": "ipython",
        "version": 3
      },
      "file_extension": ".py",
      "mimetype": "text/x-python",
      "name": "python",
      "nbconvert_exporter": "python",
      "pygments_lexer": "ipython3",
      "version": "3.9.13"
    }
  },
  "nbformat": 4,
  "nbformat_minor": 0
}